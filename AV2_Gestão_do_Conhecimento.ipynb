{
  "nbformat": 4,
  "nbformat_minor": 0,
  "metadata": {
    "kernelspec": {
      "display_name": "Python 3",
      "language": "python",
      "name": "python3"
    },
    "language_info": {
      "codemirror_mode": {
        "name": "ipython",
        "version": 3
      },
      "file_extension": ".py",
      "mimetype": "text/x-python",
      "name": "python",
      "nbconvert_exporter": "python",
      "pygments_lexer": "ipython3",
      "version": "3.7.2"
    },
    "colab": {
      "name": "AV2 Gestão do Conhecimento.ipynb",
      "provenance": [],
      "collapsed_sections": []
    }
  },
  "cells": [
    {
      "cell_type": "markdown",
      "metadata": {
        "id": "8e6IcCsJCxVz"
      },
      "source": [
        "DISCIPLINA: Gestão do Conhecimento\t PROFESSOR(A): Alex Salgado\n",
        "PERÍODO: 7o. TURNO: noite AVALIAÇÃO:\n",
        "\n",
        "ALUNO(A): IAN BARBOSA, TIAGO CRUZ, GUILHERME OLIVEIRA\n",
        "\n",
        "GRAU: VISTO DO PROFESSOR:\n"
      ]
    },
    {
      "cell_type": "markdown",
      "metadata": {
        "id": "_3h1pahVCxV2"
      },
      "source": [
        "# Questão 1 - valor (0,0)\n"
      ]
    },
    {
      "cell_type": "markdown",
      "metadata": {
        "id": "A-cj5d2rCxV3"
      },
      "source": [
        "*** Crie um repositório no Github e adicione este arquivo no mesmo\n",
        "\n",
        "\n",
        "1.1 - Você deve escolher uma base de dados do Kaggle.\n",
        "\n",
        "A natureza desse dataset deve se encaixar em um problema que podemos resolver utilizando modelos de previsão de machine learning supervisionado de classificação. \n",
        "\n",
        "A partir desta base de dados do Kaggle, você vai treinar o modelo, fazer previsões e calcular a acurácia do mesmo, usando modelos e algoritmos que desejar.\n",
        "\n",
        "Obs1: Usar o Kaggle como fonte para o seu dataset obrigatoriamente.\n",
        "Obs2: Implementações idênticas ou bem parecidas pode levar a anulação da NOTA ou seja, ZERO!! Faça o melhor com sua equipe apenas.\n"
      ]
    },
    {
      "cell_type": "code",
      "metadata": {
        "id": "MfhVnNHC52wF"
      },
      "source": [
        ""
      ],
      "execution_count": null,
      "outputs": []
    },
    {
      "cell_type": "markdown",
      "metadata": {
        "id": "3P5uSWxsDb5r"
      },
      "source": [
        "1.1 - Coloque aqui o link para o seu dataset escolhido no Kaggle.\n",
        "\n"
      ]
    },
    {
      "cell_type": "markdown",
      "metadata": {
        "id": "ZgKvqdK-GjGf"
      },
      "source": [
        "https://www.kaggle.com/arjunprasadsarkhel/2021-olympics-in-tokyo"
      ]
    },
    {
      "cell_type": "code",
      "metadata": {
        "id": "E5KjBhtQ0tT5"
      },
      "source": [
        ""
      ],
      "execution_count": null,
      "outputs": []
    },
    {
      "cell_type": "markdown",
      "metadata": {
        "id": "9ZAK23bp0uiv"
      },
      "source": [
        "1.1.1 - Descreva sobre o que é base de dados."
      ]
    },
    {
      "cell_type": "markdown",
      "metadata": {
        "id": "bv1F4sJUG6A2"
      },
      "source": [
        "Atletas das Olimpiadas de Tokyo 2021"
      ]
    },
    {
      "cell_type": "code",
      "metadata": {
        "id": "GJXzGjne0xc3"
      },
      "source": [
        ""
      ],
      "execution_count": null,
      "outputs": []
    },
    {
      "cell_type": "markdown",
      "metadata": {
        "id": "PikuHGzs0xrS"
      },
      "source": [
        "1.1.2 - Se você fez em grupo, quais os nomes dos componentes do seu grupo?"
      ]
    },
    {
      "cell_type": "markdown",
      "metadata": {
        "id": "MAla-_GfG9-d"
      },
      "source": [
        "Ian Barbosa, Tiago Cruz, Guilherme Oliveira"
      ]
    },
    {
      "cell_type": "code",
      "metadata": {
        "id": "CWD182zJCxV4"
      },
      "source": [
        ""
      ],
      "execution_count": null,
      "outputs": []
    },
    {
      "cell_type": "markdown",
      "metadata": {
        "id": "a-D7KRIzCxV8"
      },
      "source": [
        "1.2 - Após tratada, criar uma pasta no seu GoogleDrive e disponibilizar o link do arquivo de sua base (csv, xlsx, etc) para ser importado no seu código."
      ]
    },
    {
      "cell_type": "markdown",
      "metadata": {
        "id": "7VDPEtNtHFv9"
      },
      "source": [
        "https://drive.google.com/drive/folders/160-ensY415cu2xpKCq0H42AuYZrVN8YH?usp=sharing"
      ]
    },
    {
      "cell_type": "code",
      "metadata": {
        "id": "lT8fVn5TCxV8"
      },
      "source": [
        ""
      ],
      "execution_count": null,
      "outputs": []
    },
    {
      "cell_type": "markdown",
      "metadata": {
        "id": "lvPXgDBDCxV_"
      },
      "source": [
        "## Criar um código usando o Jupyter Notebook e responder (através de código) às seguintes questões:\n"
      ]
    },
    {
      "cell_type": "markdown",
      "metadata": {
        "id": "LMkAEsOKCxWA"
      },
      "source": [
        "# Questão 2 - valor (1,5)"
      ]
    },
    {
      "cell_type": "markdown",
      "metadata": {
        "id": "yOSNQel0CxWA"
      },
      "source": [
        "2.1 - Importar os modulos python para machine learn e carregar o arquivo \n",
        "\n",
        "** Sugestão se for do tipo xlsx, usar o read_excel do pandas\n",
        "import pandas as pd\n",
        "dt = pd.read_excel(\"meuarquivo.xlsx\")\n"
      ]
    },
    {
      "cell_type": "code",
      "metadata": {
        "id": "zA6l-qg9CxWB"
      },
      "source": [
        "import pandas as pd\n",
        "athletes='/content/drive/MyDrive/Colab/Athletes.xlsx'"
      ],
      "execution_count": 4,
      "outputs": []
    },
    {
      "cell_type": "code",
      "metadata": {
        "id": "ZcPJEYmoH4fe"
      },
      "source": [
        "arq = pd.read_excel(athletes)"
      ],
      "execution_count": 5,
      "outputs": []
    },
    {
      "cell_type": "markdown",
      "metadata": {
        "id": "_NIYxnZnCxWD"
      },
      "source": [
        "2.2 - Exibir os primeiros registros desta tabela.\n"
      ]
    },
    {
      "cell_type": "code",
      "metadata": {
        "id": "owd5CVN9CxWE",
        "colab": {
          "base_uri": "https://localhost:8080/",
          "height": 363
        },
        "outputId": "4672102b-2764-41a7-bf6a-9e224d370d82"
      },
      "source": [
        "arq.head(10)"
      ],
      "execution_count": 6,
      "outputs": [
        {
          "output_type": "execute_result",
          "data": {
            "text/html": [
              "<div>\n",
              "<style scoped>\n",
              "    .dataframe tbody tr th:only-of-type {\n",
              "        vertical-align: middle;\n",
              "    }\n",
              "\n",
              "    .dataframe tbody tr th {\n",
              "        vertical-align: top;\n",
              "    }\n",
              "\n",
              "    .dataframe thead th {\n",
              "        text-align: right;\n",
              "    }\n",
              "</style>\n",
              "<table border=\"1\" class=\"dataframe\">\n",
              "  <thead>\n",
              "    <tr style=\"text-align: right;\">\n",
              "      <th></th>\n",
              "      <th>Name</th>\n",
              "      <th>NOC</th>\n",
              "      <th>Discipline</th>\n",
              "    </tr>\n",
              "  </thead>\n",
              "  <tbody>\n",
              "    <tr>\n",
              "      <th>0</th>\n",
              "      <td>AALERUD Katrine</td>\n",
              "      <td>Norway</td>\n",
              "      <td>Cycling Road</td>\n",
              "    </tr>\n",
              "    <tr>\n",
              "      <th>1</th>\n",
              "      <td>ABAD Nestor</td>\n",
              "      <td>Spain</td>\n",
              "      <td>Artistic Gymnastics</td>\n",
              "    </tr>\n",
              "    <tr>\n",
              "      <th>2</th>\n",
              "      <td>ABAGNALE Giovanni</td>\n",
              "      <td>Italy</td>\n",
              "      <td>Rowing</td>\n",
              "    </tr>\n",
              "    <tr>\n",
              "      <th>3</th>\n",
              "      <td>ABALDE Alberto</td>\n",
              "      <td>Spain</td>\n",
              "      <td>Basketball</td>\n",
              "    </tr>\n",
              "    <tr>\n",
              "      <th>4</th>\n",
              "      <td>ABALDE Tamara</td>\n",
              "      <td>Spain</td>\n",
              "      <td>Basketball</td>\n",
              "    </tr>\n",
              "    <tr>\n",
              "      <th>5</th>\n",
              "      <td>ABALO Luc</td>\n",
              "      <td>France</td>\n",
              "      <td>Handball</td>\n",
              "    </tr>\n",
              "    <tr>\n",
              "      <th>6</th>\n",
              "      <td>ABAROA Cesar</td>\n",
              "      <td>Chile</td>\n",
              "      <td>Rowing</td>\n",
              "    </tr>\n",
              "    <tr>\n",
              "      <th>7</th>\n",
              "      <td>ABASS Abobakr</td>\n",
              "      <td>Sudan</td>\n",
              "      <td>Swimming</td>\n",
              "    </tr>\n",
              "    <tr>\n",
              "      <th>8</th>\n",
              "      <td>ABBASALI Hamideh</td>\n",
              "      <td>Islamic Republic of Iran</td>\n",
              "      <td>Karate</td>\n",
              "    </tr>\n",
              "    <tr>\n",
              "      <th>9</th>\n",
              "      <td>ABBASOV Islam</td>\n",
              "      <td>Azerbaijan</td>\n",
              "      <td>Wrestling</td>\n",
              "    </tr>\n",
              "  </tbody>\n",
              "</table>\n",
              "</div>"
            ],
            "text/plain": [
              "                Name                       NOC           Discipline\n",
              "0    AALERUD Katrine                    Norway         Cycling Road\n",
              "1        ABAD Nestor                     Spain  Artistic Gymnastics\n",
              "2  ABAGNALE Giovanni                     Italy               Rowing\n",
              "3     ABALDE Alberto                     Spain           Basketball\n",
              "4      ABALDE Tamara                     Spain           Basketball\n",
              "5          ABALO Luc                    France             Handball\n",
              "6       ABAROA Cesar                     Chile               Rowing\n",
              "7      ABASS Abobakr                     Sudan             Swimming\n",
              "8   ABBASALI Hamideh  Islamic Republic of Iran               Karate\n",
              "9      ABBASOV Islam                Azerbaijan            Wrestling"
            ]
          },
          "metadata": {},
          "execution_count": 6
        }
      ]
    },
    {
      "cell_type": "markdown",
      "metadata": {
        "id": "ROM2Hy1CCxWG"
      },
      "source": [
        "2.3 - De que se trata esse banco de dados? e que tipo de previsão pode ser feito com ele?\n"
      ]
    },
    {
      "cell_type": "markdown",
      "metadata": {
        "id": "H3kiT5RxJ-rl"
      },
      "source": [
        "Esse banco apresenta os atletas que participaram das Olimpiadas de Tokyo 2021, apresenta seus nomes, modalidades e países.\n",
        "Podemos visualizar quantos atletas temos por pais e por cada modalidade."
      ]
    },
    {
      "cell_type": "markdown",
      "metadata": {
        "id": "1lCf85KKCxWJ"
      },
      "source": [
        "# Questão 3 - valor (2,5)\n"
      ]
    },
    {
      "cell_type": "markdown",
      "metadata": {
        "id": "isyZsq2NCxWK"
      },
      "source": [
        "Utilizando as terminologias de Machine Learning(features e observações):\n",
        "\n"
      ]
    },
    {
      "cell_type": "markdown",
      "metadata": {
        "id": "pbuaWyeECxWL"
      },
      "source": [
        "3.1 - Quantas \"features\" têm nessa base de dados?"
      ]
    },
    {
      "cell_type": "code",
      "metadata": {
        "id": "mf9agg8BUUTc"
      },
      "source": [
        "features = arq.drop_duplicates('Discipline',keep='last')"
      ],
      "execution_count": 40,
      "outputs": []
    },
    {
      "cell_type": "code",
      "metadata": {
        "colab": {
          "base_uri": "https://localhost:8080/",
          "height": 1000
        },
        "id": "lXl1K4CSTjYr",
        "outputId": "6eda9620-a039-4ba9-cf9d-5a705f2dd156"
      },
      "source": [
        "features"
      ],
      "execution_count": 50,
      "outputs": [
        {
          "output_type": "execute_result",
          "data": {
            "text/html": [
              "<div>\n",
              "<style scoped>\n",
              "    .dataframe tbody tr th:only-of-type {\n",
              "        vertical-align: middle;\n",
              "    }\n",
              "\n",
              "    .dataframe tbody tr th {\n",
              "        vertical-align: top;\n",
              "    }\n",
              "\n",
              "    .dataframe thead th {\n",
              "        text-align: right;\n",
              "    }\n",
              "</style>\n",
              "<table border=\"1\" class=\"dataframe\">\n",
              "  <thead>\n",
              "    <tr style=\"text-align: right;\">\n",
              "      <th></th>\n",
              "      <th>Name</th>\n",
              "      <th>NOC</th>\n",
              "      <th>Discipline</th>\n",
              "    </tr>\n",
              "  </thead>\n",
              "  <tbody>\n",
              "    <tr>\n",
              "      <th>10604</th>\n",
              "      <td>WILLOUGHBY Alise</td>\n",
              "      <td>United States of America</td>\n",
              "      <td>Cycling BMX Racing</td>\n",
              "    </tr>\n",
              "    <tr>\n",
              "      <th>10679</th>\n",
              "      <td>WORTHINGTON Charlotte</td>\n",
              "      <td>Great Britain</td>\n",
              "      <td>Cycling BMX Freestyle</td>\n",
              "    </tr>\n",
              "    <tr>\n",
              "      <th>10690</th>\n",
              "      <td>WRIGHT Owen</td>\n",
              "      <td>Australia</td>\n",
              "      <td>Surfing</td>\n",
              "    </tr>\n",
              "    <tr>\n",
              "      <th>10723</th>\n",
              "      <td>XIN Xin</td>\n",
              "      <td>People's Republic of China</td>\n",
              "      <td>Marathon Swimming</td>\n",
              "    </tr>\n",
              "    <tr>\n",
              "      <th>10740</th>\n",
              "      <td>XUE Chen</td>\n",
              "      <td>People's Republic of China</td>\n",
              "      <td>Beach Volleyball</td>\n",
              "    </tr>\n",
              "    <tr>\n",
              "      <th>10858</th>\n",
              "      <td>YIP Alannah</td>\n",
              "      <td>Canada</td>\n",
              "      <td>Sport Climbing</td>\n",
              "    </tr>\n",
              "    <tr>\n",
              "      <th>10870</th>\n",
              "      <td>YOSHIDA Megumu</td>\n",
              "      <td>Japan</td>\n",
              "      <td>Artistic Swimming</td>\n",
              "    </tr>\n",
              "    <tr>\n",
              "      <th>10914</th>\n",
              "      <td>ZAADI DEUNA Grace</td>\n",
              "      <td>France</td>\n",
              "      <td>Handball</td>\n",
              "    </tr>\n",
              "    <tr>\n",
              "      <th>10928</th>\n",
              "      <td>ZAKARIN Ilnur</td>\n",
              "      <td>ROC</td>\n",
              "      <td>Cycling Road</td>\n",
              "    </tr>\n",
              "    <tr>\n",
              "      <th>10936</th>\n",
              "      <td>ZAMMIT STEVENS Yasmin</td>\n",
              "      <td>Malta</td>\n",
              "      <td>Weightlifting</td>\n",
              "    </tr>\n",
              "    <tr>\n",
              "      <th>10940</th>\n",
              "      <td>ZANELLATO Rafaela</td>\n",
              "      <td>Brazil</td>\n",
              "      <td>Rugby Sevens</td>\n",
              "    </tr>\n",
              "    <tr>\n",
              "      <th>10944</th>\n",
              "      <td>ZANOTTI Fabrizio</td>\n",
              "      <td>Paraguay</td>\n",
              "      <td>Golf</td>\n",
              "    </tr>\n",
              "    <tr>\n",
              "      <th>10967</th>\n",
              "      <td>ZEID Josh</td>\n",
              "      <td>Israel</td>\n",
              "      <td>Baseball/Softball</td>\n",
              "    </tr>\n",
              "    <tr>\n",
              "      <th>10974</th>\n",
              "      <td>ZENG Laura</td>\n",
              "      <td>United States of America</td>\n",
              "      <td>Rhythmic Gymnastics</td>\n",
              "    </tr>\n",
              "    <tr>\n",
              "      <th>10993</th>\n",
              "      <td>ZHANG Danyi</td>\n",
              "      <td>People's Republic of China</td>\n",
              "      <td>Water Polo</td>\n",
              "    </tr>\n",
              "    <tr>\n",
              "      <th>11011</th>\n",
              "      <td>ZHANG Peng</td>\n",
              "      <td>People's Republic of China</td>\n",
              "      <td>Cycling Mountain Bike</td>\n",
              "    </tr>\n",
              "    <tr>\n",
              "      <th>11013</th>\n",
              "      <td>ZHANG Ru</td>\n",
              "      <td>People's Republic of China</td>\n",
              "      <td>Basketball</td>\n",
              "    </tr>\n",
              "    <tr>\n",
              "      <th>11014</th>\n",
              "      <td>ZHANG Xiaonan</td>\n",
              "      <td>People's Republic of China</td>\n",
              "      <td>Modern Pentathlon</td>\n",
              "    </tr>\n",
              "    <tr>\n",
              "      <th>11024</th>\n",
              "      <td>ZHANGBYRBAY Moldir</td>\n",
              "      <td>Kazakhstan</td>\n",
              "      <td>Karate</td>\n",
              "    </tr>\n",
              "    <tr>\n",
              "      <th>11036</th>\n",
              "      <td>ZHONG Mengying</td>\n",
              "      <td>People's Republic of China</td>\n",
              "      <td>Triathlon</td>\n",
              "    </tr>\n",
              "    <tr>\n",
              "      <th>11037</th>\n",
              "      <td>ZHONG Tianshi</td>\n",
              "      <td>People's Republic of China</td>\n",
              "      <td>Cycling Track</td>\n",
              "    </tr>\n",
              "    <tr>\n",
              "      <th>11040</th>\n",
              "      <td>ZHOU Xin</td>\n",
              "      <td>United States of America</td>\n",
              "      <td>Table Tennis</td>\n",
              "    </tr>\n",
              "    <tr>\n",
              "      <th>11043</th>\n",
              "      <td>ZHU Mingye</td>\n",
              "      <td>People's Republic of China</td>\n",
              "      <td>Fencing</td>\n",
              "    </tr>\n",
              "    <tr>\n",
              "      <th>11044</th>\n",
              "      <td>ZHU Ting</td>\n",
              "      <td>People's Republic of China</td>\n",
              "      <td>Volleyball</td>\n",
              "    </tr>\n",
              "    <tr>\n",
              "      <th>11045</th>\n",
              "      <td>ZHU Xueying</td>\n",
              "      <td>People's Republic of China</td>\n",
              "      <td>Trampoline Gymnastics</td>\n",
              "    </tr>\n",
              "    <tr>\n",
              "      <th>11054</th>\n",
              "      <td>ZILBERMAN Misha</td>\n",
              "      <td>Israel</td>\n",
              "      <td>Badminton</td>\n",
              "    </tr>\n",
              "    <tr>\n",
              "      <th>11055</th>\n",
              "      <td>ZILLMANN Katarzyna</td>\n",
              "      <td>Poland</td>\n",
              "      <td>Rowing</td>\n",
              "    </tr>\n",
              "    <tr>\n",
              "      <th>11063</th>\n",
              "      <td>ZOHRI Lalu Muhammad</td>\n",
              "      <td>Indonesia</td>\n",
              "      <td>Athletics</td>\n",
              "    </tr>\n",
              "    <tr>\n",
              "      <th>11064</th>\n",
              "      <td>ZOIDZE Ramaz</td>\n",
              "      <td>Georgia</td>\n",
              "      <td>Wrestling</td>\n",
              "    </tr>\n",
              "    <tr>\n",
              "      <th>11066</th>\n",
              "      <td>ZOKIROVA Nilufar</td>\n",
              "      <td>Uzbekistan</td>\n",
              "      <td>Canoe Sprint</td>\n",
              "    </tr>\n",
              "    <tr>\n",
              "      <th>11067</th>\n",
              "      <td>ZOLOEV Vladimir</td>\n",
              "      <td>Kyrgyzstan</td>\n",
              "      <td>Judo</td>\n",
              "    </tr>\n",
              "    <tr>\n",
              "      <th>11068</th>\n",
              "      <td>ZOLOTIC Anastasija</td>\n",
              "      <td>United States of America</td>\n",
              "      <td>Taekwondo</td>\n",
              "    </tr>\n",
              "    <tr>\n",
              "      <th>11069</th>\n",
              "      <td>ZOMBORI Gabor</td>\n",
              "      <td>Hungary</td>\n",
              "      <td>Swimming</td>\n",
              "    </tr>\n",
              "    <tr>\n",
              "      <th>11071</th>\n",
              "      <td>ZOU Jingyuan</td>\n",
              "      <td>People's Republic of China</td>\n",
              "      <td>Artistic Gymnastics</td>\n",
              "    </tr>\n",
              "    <tr>\n",
              "      <th>11072</th>\n",
              "      <td>ZSOMBOR-MURRAY Nathan</td>\n",
              "      <td>Canada</td>\n",
              "      <td>Diving</td>\n",
              "    </tr>\n",
              "    <tr>\n",
              "      <th>11073</th>\n",
              "      <td>ZUBIMENDI Martin</td>\n",
              "      <td>Spain</td>\n",
              "      <td>Football</td>\n",
              "    </tr>\n",
              "    <tr>\n",
              "      <th>11074</th>\n",
              "      <td>ZUEV Alexander</td>\n",
              "      <td>ROC</td>\n",
              "      <td>3x3 Basketball</td>\n",
              "    </tr>\n",
              "    <tr>\n",
              "      <th>11075</th>\n",
              "      <td>ZUKHUROV Siyovush</td>\n",
              "      <td>Tajikistan</td>\n",
              "      <td>Boxing</td>\n",
              "    </tr>\n",
              "    <tr>\n",
              "      <th>11077</th>\n",
              "      <td>ZVARA Ondrej</td>\n",
              "      <td>Czech Republic</td>\n",
              "      <td>Equestrian</td>\n",
              "    </tr>\n",
              "    <tr>\n",
              "      <th>11078</th>\n",
              "      <td>ZVEREV Alexander</td>\n",
              "      <td>Germany</td>\n",
              "      <td>Tennis</td>\n",
              "    </tr>\n",
              "    <tr>\n",
              "      <th>11079</th>\n",
              "      <td>ZWETSLOOT Roos</td>\n",
              "      <td>Netherlands</td>\n",
              "      <td>Skateboarding</td>\n",
              "    </tr>\n",
              "    <tr>\n",
              "      <th>11080</th>\n",
              "      <td>ZWICKER Martin Detlef</td>\n",
              "      <td>Germany</td>\n",
              "      <td>Hockey</td>\n",
              "    </tr>\n",
              "    <tr>\n",
              "      <th>11081</th>\n",
              "      <td>ZWOLINSKA Klaudia</td>\n",
              "      <td>Poland</td>\n",
              "      <td>Canoe Slalom</td>\n",
              "    </tr>\n",
              "    <tr>\n",
              "      <th>11082</th>\n",
              "      <td>ZYKOVA Yulia</td>\n",
              "      <td>ROC</td>\n",
              "      <td>Shooting</td>\n",
              "    </tr>\n",
              "    <tr>\n",
              "      <th>11083</th>\n",
              "      <td>ZYUZINA Ekaterina</td>\n",
              "      <td>ROC</td>\n",
              "      <td>Sailing</td>\n",
              "    </tr>\n",
              "    <tr>\n",
              "      <th>11084</th>\n",
              "      <td>ZYZANSKA Sylwia</td>\n",
              "      <td>Poland</td>\n",
              "      <td>Archery</td>\n",
              "    </tr>\n",
              "  </tbody>\n",
              "</table>\n",
              "</div>"
            ],
            "text/plain": [
              "                        Name                         NOC             Discipline\n",
              "10604       WILLOUGHBY Alise    United States of America     Cycling BMX Racing\n",
              "10679  WORTHINGTON Charlotte               Great Britain  Cycling BMX Freestyle\n",
              "10690            WRIGHT Owen                   Australia                Surfing\n",
              "10723                XIN Xin  People's Republic of China      Marathon Swimming\n",
              "10740               XUE Chen  People's Republic of China       Beach Volleyball\n",
              "10858            YIP Alannah                      Canada         Sport Climbing\n",
              "10870         YOSHIDA Megumu                       Japan      Artistic Swimming\n",
              "10914      ZAADI DEUNA Grace                      France               Handball\n",
              "10928          ZAKARIN Ilnur                         ROC           Cycling Road\n",
              "10936  ZAMMIT STEVENS Yasmin                       Malta          Weightlifting\n",
              "10940      ZANELLATO Rafaela                      Brazil           Rugby Sevens\n",
              "10944       ZANOTTI Fabrizio                    Paraguay                   Golf\n",
              "10967              ZEID Josh                      Israel      Baseball/Softball\n",
              "10974             ZENG Laura    United States of America    Rhythmic Gymnastics\n",
              "10993            ZHANG Danyi  People's Republic of China             Water Polo\n",
              "11011             ZHANG Peng  People's Republic of China  Cycling Mountain Bike\n",
              "11013               ZHANG Ru  People's Republic of China             Basketball\n",
              "11014          ZHANG Xiaonan  People's Republic of China      Modern Pentathlon\n",
              "11024     ZHANGBYRBAY Moldir                  Kazakhstan                 Karate\n",
              "11036         ZHONG Mengying  People's Republic of China              Triathlon\n",
              "11037          ZHONG Tianshi  People's Republic of China          Cycling Track\n",
              "11040               ZHOU Xin    United States of America           Table Tennis\n",
              "11043             ZHU Mingye  People's Republic of China                Fencing\n",
              "11044               ZHU Ting  People's Republic of China             Volleyball\n",
              "11045            ZHU Xueying  People's Republic of China  Trampoline Gymnastics\n",
              "11054        ZILBERMAN Misha                      Israel              Badminton\n",
              "11055     ZILLMANN Katarzyna                      Poland                 Rowing\n",
              "11063    ZOHRI Lalu Muhammad                   Indonesia              Athletics\n",
              "11064           ZOIDZE Ramaz                     Georgia              Wrestling\n",
              "11066       ZOKIROVA Nilufar                  Uzbekistan           Canoe Sprint\n",
              "11067        ZOLOEV Vladimir                  Kyrgyzstan                   Judo\n",
              "11068     ZOLOTIC Anastasija    United States of America              Taekwondo\n",
              "11069          ZOMBORI Gabor                     Hungary               Swimming\n",
              "11071           ZOU Jingyuan  People's Republic of China    Artistic Gymnastics\n",
              "11072  ZSOMBOR-MURRAY Nathan                      Canada                 Diving\n",
              "11073       ZUBIMENDI Martin                       Spain               Football\n",
              "11074         ZUEV Alexander                         ROC         3x3 Basketball\n",
              "11075      ZUKHUROV Siyovush                  Tajikistan                 Boxing\n",
              "11077           ZVARA Ondrej              Czech Republic             Equestrian\n",
              "11078       ZVEREV Alexander                     Germany                 Tennis\n",
              "11079         ZWETSLOOT Roos                 Netherlands          Skateboarding\n",
              "11080  ZWICKER Martin Detlef                     Germany                 Hockey\n",
              "11081      ZWOLINSKA Klaudia                      Poland           Canoe Slalom\n",
              "11082           ZYKOVA Yulia                         ROC               Shooting\n",
              "11083      ZYUZINA Ekaterina                         ROC                Sailing\n",
              "11084        ZYZANSKA Sylwia                      Poland                Archery"
            ]
          },
          "metadata": {},
          "execution_count": 50
        }
      ]
    },
    {
      "cell_type": "code",
      "metadata": {
        "id": "CjiuwEwuTuHD",
        "colab": {
          "base_uri": "https://localhost:8080/"
        },
        "outputId": "5b21c607-48a9-46ed-e9b4-daa2d89ea299"
      },
      "source": [
        "features.shape"
      ],
      "execution_count": 42,
      "outputs": [
        {
          "output_type": "execute_result",
          "data": {
            "text/plain": [
              "(46, 3)"
            ]
          },
          "metadata": {},
          "execution_count": 42
        }
      ]
    },
    {
      "cell_type": "markdown",
      "metadata": {
        "id": "RtwxkASmCxWN"
      },
      "source": [
        "3.2 - Quantas observações têm nessa base de dados?\n"
      ]
    },
    {
      "cell_type": "code",
      "metadata": {
        "id": "jUMDT4jEDxRk"
      },
      "source": [
        "target = arq['Discipline'].value_counts()"
      ],
      "execution_count": 67,
      "outputs": []
    },
    {
      "cell_type": "code",
      "metadata": {
        "colab": {
          "base_uri": "https://localhost:8080/"
        },
        "id": "9E10SJ6jPO2q",
        "outputId": "b3db077f-09fd-4d7f-83f8-d98aa3761249"
      },
      "source": [
        "target"
      ],
      "execution_count": 68,
      "outputs": [
        {
          "output_type": "execute_result",
          "data": {
            "text/plain": [
              "Athletics                2068\n",
              "Swimming                  743\n",
              "Football                  567\n",
              "Rowing                    496\n",
              "Hockey                    406\n",
              "Judo                      373\n",
              "Handball                  343\n",
              "Shooting                  342\n",
              "Sailing                   336\n",
              "Rugby Sevens              283\n",
              "Basketball                280\n",
              "Wrestling                 279\n",
              "Volleyball                274\n",
              "Boxing                    270\n",
              "Water Polo                269\n",
              "Fencing                   249\n",
              "Equestrian                237\n",
              "Canoe Sprint              236\n",
              "Baseball/Softball         220\n",
              "Cycling Track             208\n",
              "Cycling Road              190\n",
              "Weightlifting             187\n",
              "Artistic Gymnastics       187\n",
              "Tennis                    178\n",
              "Badminton                 164\n",
              "Table Tennis              164\n",
              "Diving                    133\n",
              "Taekwondo                 123\n",
              "Archery                   122\n",
              "Golf                      115\n",
              "Triathlon                 106\n",
              "Artistic Swimming          98\n",
              "Rhythmic Gymnastics        95\n",
              "Beach Volleyball           90\n",
              "Canoe Slalom               78\n",
              "Skateboarding              77\n",
              "Karate                     77\n",
              "Cycling Mountain Bike      74\n",
              "Modern Pentathlon          69\n",
              "3x3 Basketball             62\n",
              "Marathon Swimming          49\n",
              "Cycling BMX Racing         43\n",
              "Surfing                    38\n",
              "Sport Climbing             37\n",
              "Trampoline Gymnastics      31\n",
              "Cycling BMX Freestyle      19\n",
              "Name: Discipline, dtype: int64"
            ]
          },
          "metadata": {},
          "execution_count": 68
        }
      ]
    },
    {
      "cell_type": "markdown",
      "metadata": {
        "id": "tcAYZJP8zlX3"
      },
      "source": [
        "3.3 - Separe o que é entrada (features) do seu dataset na variável X, e exiba."
      ]
    },
    {
      "cell_type": "code",
      "metadata": {
        "id": "YRb95Dh-ZDnK"
      },
      "source": [
        "x = features"
      ],
      "execution_count": 61,
      "outputs": []
    },
    {
      "cell_type": "code",
      "metadata": {
        "colab": {
          "base_uri": "https://localhost:8080/",
          "height": 1000
        },
        "id": "tI-pjj8gZK6j",
        "outputId": "b0385ce3-10c4-47c0-f163-1374d55e3dfe"
      },
      "source": [
        "x"
      ],
      "execution_count": 62,
      "outputs": [
        {
          "output_type": "execute_result",
          "data": {
            "text/html": [
              "<div>\n",
              "<style scoped>\n",
              "    .dataframe tbody tr th:only-of-type {\n",
              "        vertical-align: middle;\n",
              "    }\n",
              "\n",
              "    .dataframe tbody tr th {\n",
              "        vertical-align: top;\n",
              "    }\n",
              "\n",
              "    .dataframe thead th {\n",
              "        text-align: right;\n",
              "    }\n",
              "</style>\n",
              "<table border=\"1\" class=\"dataframe\">\n",
              "  <thead>\n",
              "    <tr style=\"text-align: right;\">\n",
              "      <th></th>\n",
              "      <th>Name</th>\n",
              "      <th>NOC</th>\n",
              "      <th>Discipline</th>\n",
              "    </tr>\n",
              "  </thead>\n",
              "  <tbody>\n",
              "    <tr>\n",
              "      <th>10604</th>\n",
              "      <td>WILLOUGHBY Alise</td>\n",
              "      <td>United States of America</td>\n",
              "      <td>Cycling BMX Racing</td>\n",
              "    </tr>\n",
              "    <tr>\n",
              "      <th>10679</th>\n",
              "      <td>WORTHINGTON Charlotte</td>\n",
              "      <td>Great Britain</td>\n",
              "      <td>Cycling BMX Freestyle</td>\n",
              "    </tr>\n",
              "    <tr>\n",
              "      <th>10690</th>\n",
              "      <td>WRIGHT Owen</td>\n",
              "      <td>Australia</td>\n",
              "      <td>Surfing</td>\n",
              "    </tr>\n",
              "    <tr>\n",
              "      <th>10723</th>\n",
              "      <td>XIN Xin</td>\n",
              "      <td>People's Republic of China</td>\n",
              "      <td>Marathon Swimming</td>\n",
              "    </tr>\n",
              "    <tr>\n",
              "      <th>10740</th>\n",
              "      <td>XUE Chen</td>\n",
              "      <td>People's Republic of China</td>\n",
              "      <td>Beach Volleyball</td>\n",
              "    </tr>\n",
              "    <tr>\n",
              "      <th>10858</th>\n",
              "      <td>YIP Alannah</td>\n",
              "      <td>Canada</td>\n",
              "      <td>Sport Climbing</td>\n",
              "    </tr>\n",
              "    <tr>\n",
              "      <th>10870</th>\n",
              "      <td>YOSHIDA Megumu</td>\n",
              "      <td>Japan</td>\n",
              "      <td>Artistic Swimming</td>\n",
              "    </tr>\n",
              "    <tr>\n",
              "      <th>10914</th>\n",
              "      <td>ZAADI DEUNA Grace</td>\n",
              "      <td>France</td>\n",
              "      <td>Handball</td>\n",
              "    </tr>\n",
              "    <tr>\n",
              "      <th>10928</th>\n",
              "      <td>ZAKARIN Ilnur</td>\n",
              "      <td>ROC</td>\n",
              "      <td>Cycling Road</td>\n",
              "    </tr>\n",
              "    <tr>\n",
              "      <th>10936</th>\n",
              "      <td>ZAMMIT STEVENS Yasmin</td>\n",
              "      <td>Malta</td>\n",
              "      <td>Weightlifting</td>\n",
              "    </tr>\n",
              "    <tr>\n",
              "      <th>10940</th>\n",
              "      <td>ZANELLATO Rafaela</td>\n",
              "      <td>Brazil</td>\n",
              "      <td>Rugby Sevens</td>\n",
              "    </tr>\n",
              "    <tr>\n",
              "      <th>10944</th>\n",
              "      <td>ZANOTTI Fabrizio</td>\n",
              "      <td>Paraguay</td>\n",
              "      <td>Golf</td>\n",
              "    </tr>\n",
              "    <tr>\n",
              "      <th>10967</th>\n",
              "      <td>ZEID Josh</td>\n",
              "      <td>Israel</td>\n",
              "      <td>Baseball/Softball</td>\n",
              "    </tr>\n",
              "    <tr>\n",
              "      <th>10974</th>\n",
              "      <td>ZENG Laura</td>\n",
              "      <td>United States of America</td>\n",
              "      <td>Rhythmic Gymnastics</td>\n",
              "    </tr>\n",
              "    <tr>\n",
              "      <th>10993</th>\n",
              "      <td>ZHANG Danyi</td>\n",
              "      <td>People's Republic of China</td>\n",
              "      <td>Water Polo</td>\n",
              "    </tr>\n",
              "    <tr>\n",
              "      <th>11011</th>\n",
              "      <td>ZHANG Peng</td>\n",
              "      <td>People's Republic of China</td>\n",
              "      <td>Cycling Mountain Bike</td>\n",
              "    </tr>\n",
              "    <tr>\n",
              "      <th>11013</th>\n",
              "      <td>ZHANG Ru</td>\n",
              "      <td>People's Republic of China</td>\n",
              "      <td>Basketball</td>\n",
              "    </tr>\n",
              "    <tr>\n",
              "      <th>11014</th>\n",
              "      <td>ZHANG Xiaonan</td>\n",
              "      <td>People's Republic of China</td>\n",
              "      <td>Modern Pentathlon</td>\n",
              "    </tr>\n",
              "    <tr>\n",
              "      <th>11024</th>\n",
              "      <td>ZHANGBYRBAY Moldir</td>\n",
              "      <td>Kazakhstan</td>\n",
              "      <td>Karate</td>\n",
              "    </tr>\n",
              "    <tr>\n",
              "      <th>11036</th>\n",
              "      <td>ZHONG Mengying</td>\n",
              "      <td>People's Republic of China</td>\n",
              "      <td>Triathlon</td>\n",
              "    </tr>\n",
              "    <tr>\n",
              "      <th>11037</th>\n",
              "      <td>ZHONG Tianshi</td>\n",
              "      <td>People's Republic of China</td>\n",
              "      <td>Cycling Track</td>\n",
              "    </tr>\n",
              "    <tr>\n",
              "      <th>11040</th>\n",
              "      <td>ZHOU Xin</td>\n",
              "      <td>United States of America</td>\n",
              "      <td>Table Tennis</td>\n",
              "    </tr>\n",
              "    <tr>\n",
              "      <th>11043</th>\n",
              "      <td>ZHU Mingye</td>\n",
              "      <td>People's Republic of China</td>\n",
              "      <td>Fencing</td>\n",
              "    </tr>\n",
              "    <tr>\n",
              "      <th>11044</th>\n",
              "      <td>ZHU Ting</td>\n",
              "      <td>People's Republic of China</td>\n",
              "      <td>Volleyball</td>\n",
              "    </tr>\n",
              "    <tr>\n",
              "      <th>11045</th>\n",
              "      <td>ZHU Xueying</td>\n",
              "      <td>People's Republic of China</td>\n",
              "      <td>Trampoline Gymnastics</td>\n",
              "    </tr>\n",
              "    <tr>\n",
              "      <th>11054</th>\n",
              "      <td>ZILBERMAN Misha</td>\n",
              "      <td>Israel</td>\n",
              "      <td>Badminton</td>\n",
              "    </tr>\n",
              "    <tr>\n",
              "      <th>11055</th>\n",
              "      <td>ZILLMANN Katarzyna</td>\n",
              "      <td>Poland</td>\n",
              "      <td>Rowing</td>\n",
              "    </tr>\n",
              "    <tr>\n",
              "      <th>11063</th>\n",
              "      <td>ZOHRI Lalu Muhammad</td>\n",
              "      <td>Indonesia</td>\n",
              "      <td>Athletics</td>\n",
              "    </tr>\n",
              "    <tr>\n",
              "      <th>11064</th>\n",
              "      <td>ZOIDZE Ramaz</td>\n",
              "      <td>Georgia</td>\n",
              "      <td>Wrestling</td>\n",
              "    </tr>\n",
              "    <tr>\n",
              "      <th>11066</th>\n",
              "      <td>ZOKIROVA Nilufar</td>\n",
              "      <td>Uzbekistan</td>\n",
              "      <td>Canoe Sprint</td>\n",
              "    </tr>\n",
              "    <tr>\n",
              "      <th>11067</th>\n",
              "      <td>ZOLOEV Vladimir</td>\n",
              "      <td>Kyrgyzstan</td>\n",
              "      <td>Judo</td>\n",
              "    </tr>\n",
              "    <tr>\n",
              "      <th>11068</th>\n",
              "      <td>ZOLOTIC Anastasija</td>\n",
              "      <td>United States of America</td>\n",
              "      <td>Taekwondo</td>\n",
              "    </tr>\n",
              "    <tr>\n",
              "      <th>11069</th>\n",
              "      <td>ZOMBORI Gabor</td>\n",
              "      <td>Hungary</td>\n",
              "      <td>Swimming</td>\n",
              "    </tr>\n",
              "    <tr>\n",
              "      <th>11071</th>\n",
              "      <td>ZOU Jingyuan</td>\n",
              "      <td>People's Republic of China</td>\n",
              "      <td>Artistic Gymnastics</td>\n",
              "    </tr>\n",
              "    <tr>\n",
              "      <th>11072</th>\n",
              "      <td>ZSOMBOR-MURRAY Nathan</td>\n",
              "      <td>Canada</td>\n",
              "      <td>Diving</td>\n",
              "    </tr>\n",
              "    <tr>\n",
              "      <th>11073</th>\n",
              "      <td>ZUBIMENDI Martin</td>\n",
              "      <td>Spain</td>\n",
              "      <td>Football</td>\n",
              "    </tr>\n",
              "    <tr>\n",
              "      <th>11074</th>\n",
              "      <td>ZUEV Alexander</td>\n",
              "      <td>ROC</td>\n",
              "      <td>3x3 Basketball</td>\n",
              "    </tr>\n",
              "    <tr>\n",
              "      <th>11075</th>\n",
              "      <td>ZUKHUROV Siyovush</td>\n",
              "      <td>Tajikistan</td>\n",
              "      <td>Boxing</td>\n",
              "    </tr>\n",
              "    <tr>\n",
              "      <th>11077</th>\n",
              "      <td>ZVARA Ondrej</td>\n",
              "      <td>Czech Republic</td>\n",
              "      <td>Equestrian</td>\n",
              "    </tr>\n",
              "    <tr>\n",
              "      <th>11078</th>\n",
              "      <td>ZVEREV Alexander</td>\n",
              "      <td>Germany</td>\n",
              "      <td>Tennis</td>\n",
              "    </tr>\n",
              "    <tr>\n",
              "      <th>11079</th>\n",
              "      <td>ZWETSLOOT Roos</td>\n",
              "      <td>Netherlands</td>\n",
              "      <td>Skateboarding</td>\n",
              "    </tr>\n",
              "    <tr>\n",
              "      <th>11080</th>\n",
              "      <td>ZWICKER Martin Detlef</td>\n",
              "      <td>Germany</td>\n",
              "      <td>Hockey</td>\n",
              "    </tr>\n",
              "    <tr>\n",
              "      <th>11081</th>\n",
              "      <td>ZWOLINSKA Klaudia</td>\n",
              "      <td>Poland</td>\n",
              "      <td>Canoe Slalom</td>\n",
              "    </tr>\n",
              "    <tr>\n",
              "      <th>11082</th>\n",
              "      <td>ZYKOVA Yulia</td>\n",
              "      <td>ROC</td>\n",
              "      <td>Shooting</td>\n",
              "    </tr>\n",
              "    <tr>\n",
              "      <th>11083</th>\n",
              "      <td>ZYUZINA Ekaterina</td>\n",
              "      <td>ROC</td>\n",
              "      <td>Sailing</td>\n",
              "    </tr>\n",
              "    <tr>\n",
              "      <th>11084</th>\n",
              "      <td>ZYZANSKA Sylwia</td>\n",
              "      <td>Poland</td>\n",
              "      <td>Archery</td>\n",
              "    </tr>\n",
              "  </tbody>\n",
              "</table>\n",
              "</div>"
            ],
            "text/plain": [
              "                        Name                         NOC             Discipline\n",
              "10604       WILLOUGHBY Alise    United States of America     Cycling BMX Racing\n",
              "10679  WORTHINGTON Charlotte               Great Britain  Cycling BMX Freestyle\n",
              "10690            WRIGHT Owen                   Australia                Surfing\n",
              "10723                XIN Xin  People's Republic of China      Marathon Swimming\n",
              "10740               XUE Chen  People's Republic of China       Beach Volleyball\n",
              "10858            YIP Alannah                      Canada         Sport Climbing\n",
              "10870         YOSHIDA Megumu                       Japan      Artistic Swimming\n",
              "10914      ZAADI DEUNA Grace                      France               Handball\n",
              "10928          ZAKARIN Ilnur                         ROC           Cycling Road\n",
              "10936  ZAMMIT STEVENS Yasmin                       Malta          Weightlifting\n",
              "10940      ZANELLATO Rafaela                      Brazil           Rugby Sevens\n",
              "10944       ZANOTTI Fabrizio                    Paraguay                   Golf\n",
              "10967              ZEID Josh                      Israel      Baseball/Softball\n",
              "10974             ZENG Laura    United States of America    Rhythmic Gymnastics\n",
              "10993            ZHANG Danyi  People's Republic of China             Water Polo\n",
              "11011             ZHANG Peng  People's Republic of China  Cycling Mountain Bike\n",
              "11013               ZHANG Ru  People's Republic of China             Basketball\n",
              "11014          ZHANG Xiaonan  People's Republic of China      Modern Pentathlon\n",
              "11024     ZHANGBYRBAY Moldir                  Kazakhstan                 Karate\n",
              "11036         ZHONG Mengying  People's Republic of China              Triathlon\n",
              "11037          ZHONG Tianshi  People's Republic of China          Cycling Track\n",
              "11040               ZHOU Xin    United States of America           Table Tennis\n",
              "11043             ZHU Mingye  People's Republic of China                Fencing\n",
              "11044               ZHU Ting  People's Republic of China             Volleyball\n",
              "11045            ZHU Xueying  People's Republic of China  Trampoline Gymnastics\n",
              "11054        ZILBERMAN Misha                      Israel              Badminton\n",
              "11055     ZILLMANN Katarzyna                      Poland                 Rowing\n",
              "11063    ZOHRI Lalu Muhammad                   Indonesia              Athletics\n",
              "11064           ZOIDZE Ramaz                     Georgia              Wrestling\n",
              "11066       ZOKIROVA Nilufar                  Uzbekistan           Canoe Sprint\n",
              "11067        ZOLOEV Vladimir                  Kyrgyzstan                   Judo\n",
              "11068     ZOLOTIC Anastasija    United States of America              Taekwondo\n",
              "11069          ZOMBORI Gabor                     Hungary               Swimming\n",
              "11071           ZOU Jingyuan  People's Republic of China    Artistic Gymnastics\n",
              "11072  ZSOMBOR-MURRAY Nathan                      Canada                 Diving\n",
              "11073       ZUBIMENDI Martin                       Spain               Football\n",
              "11074         ZUEV Alexander                         ROC         3x3 Basketball\n",
              "11075      ZUKHUROV Siyovush                  Tajikistan                 Boxing\n",
              "11077           ZVARA Ondrej              Czech Republic             Equestrian\n",
              "11078       ZVEREV Alexander                     Germany                 Tennis\n",
              "11079         ZWETSLOOT Roos                 Netherlands          Skateboarding\n",
              "11080  ZWICKER Martin Detlef                     Germany                 Hockey\n",
              "11081      ZWOLINSKA Klaudia                      Poland           Canoe Slalom\n",
              "11082           ZYKOVA Yulia                         ROC               Shooting\n",
              "11083      ZYUZINA Ekaterina                         ROC                Sailing\n",
              "11084        ZYZANSKA Sylwia                      Poland                Archery"
            ]
          },
          "metadata": {},
          "execution_count": 62
        }
      ]
    },
    {
      "cell_type": "markdown",
      "metadata": {
        "id": "FkA2G20zzvHX"
      },
      "source": [
        "3.4 - Separe o que é saída (target/resposta) do seu dataset na variável y, e exiba."
      ]
    },
    {
      "cell_type": "code",
      "metadata": {
        "id": "0BXXJHWzdm6K"
      },
      "source": [
        "y = target"
      ],
      "execution_count": 69,
      "outputs": []
    },
    {
      "cell_type": "code",
      "metadata": {
        "colab": {
          "base_uri": "https://localhost:8080/"
        },
        "id": "aiDQwj_CMvkC",
        "outputId": "faf2a13d-ce39-44f4-f551-61959fe8ade4"
      },
      "source": [
        "y"
      ],
      "execution_count": 70,
      "outputs": [
        {
          "output_type": "execute_result",
          "data": {
            "text/plain": [
              "Athletics                2068\n",
              "Swimming                  743\n",
              "Football                  567\n",
              "Rowing                    496\n",
              "Hockey                    406\n",
              "Judo                      373\n",
              "Handball                  343\n",
              "Shooting                  342\n",
              "Sailing                   336\n",
              "Rugby Sevens              283\n",
              "Basketball                280\n",
              "Wrestling                 279\n",
              "Volleyball                274\n",
              "Boxing                    270\n",
              "Water Polo                269\n",
              "Fencing                   249\n",
              "Equestrian                237\n",
              "Canoe Sprint              236\n",
              "Baseball/Softball         220\n",
              "Cycling Track             208\n",
              "Cycling Road              190\n",
              "Weightlifting             187\n",
              "Artistic Gymnastics       187\n",
              "Tennis                    178\n",
              "Badminton                 164\n",
              "Table Tennis              164\n",
              "Diving                    133\n",
              "Taekwondo                 123\n",
              "Archery                   122\n",
              "Golf                      115\n",
              "Triathlon                 106\n",
              "Artistic Swimming          98\n",
              "Rhythmic Gymnastics        95\n",
              "Beach Volleyball           90\n",
              "Canoe Slalom               78\n",
              "Skateboarding              77\n",
              "Karate                     77\n",
              "Cycling Mountain Bike      74\n",
              "Modern Pentathlon          69\n",
              "3x3 Basketball             62\n",
              "Marathon Swimming          49\n",
              "Cycling BMX Racing         43\n",
              "Surfing                    38\n",
              "Sport Climbing             37\n",
              "Trampoline Gymnastics      31\n",
              "Cycling BMX Freestyle      19\n",
              "Name: Discipline, dtype: int64"
            ]
          },
          "metadata": {},
          "execution_count": 70
        }
      ]
    },
    {
      "cell_type": "markdown",
      "metadata": {
        "id": "AudYWfr1CxWQ"
      },
      "source": [
        "# Questão 4 - valor (1,5)\n"
      ]
    },
    {
      "cell_type": "code",
      "metadata": {
        "id": "-42875JwREmd"
      },
      "source": [
        ""
      ],
      "execution_count": null,
      "outputs": []
    },
    {
      "cell_type": "markdown",
      "metadata": {
        "id": "pJxRMc1HCxWR"
      },
      "source": [
        "4.1 - Utilizando a sua base, faça um treinamento e uma previsão, usando o algoritmo de clsssificação de sua escolha.\n"
      ]
    },
    {
      "cell_type": "code",
      "metadata": {
        "id": "Tu7ZKtSkCxWS"
      },
      "source": [
        "surf = arq[arq['Discipline']=='Surfing']"
      ],
      "execution_count": 73,
      "outputs": []
    },
    {
      "cell_type": "code",
      "metadata": {
        "colab": {
          "base_uri": "https://localhost:8080/",
          "height": 1000
        },
        "id": "pe1wLsU9Sbwr",
        "outputId": "dcb777e7-5862-4444-c4bb-26365905b8b1"
      },
      "source": [
        "surf"
      ],
      "execution_count": 74,
      "outputs": [
        {
          "output_type": "execute_result",
          "data": {
            "text/html": [
              "<div>\n",
              "<style scoped>\n",
              "    .dataframe tbody tr th:only-of-type {\n",
              "        vertical-align: middle;\n",
              "    }\n",
              "\n",
              "    .dataframe tbody tr th {\n",
              "        vertical-align: top;\n",
              "    }\n",
              "\n",
              "    .dataframe thead th {\n",
              "        text-align: right;\n",
              "    }\n",
              "</style>\n",
              "<table border=\"1\" class=\"dataframe\">\n",
              "  <thead>\n",
              "    <tr style=\"text-align: right;\">\n",
              "      <th></th>\n",
              "      <th>Name</th>\n",
              "      <th>NOC</th>\n",
              "      <th>Discipline</th>\n",
              "    </tr>\n",
              "  </thead>\n",
              "  <tbody>\n",
              "    <tr>\n",
              "      <th>107</th>\n",
              "      <td>ADO Pauline</td>\n",
              "      <td>France</td>\n",
              "      <td>Surfing</td>\n",
              "    </tr>\n",
              "    <tr>\n",
              "      <th>388</th>\n",
              "      <td>ANDINO Kolohe</td>\n",
              "      <td>United States of America</td>\n",
              "      <td>Surfing</td>\n",
              "    </tr>\n",
              "    <tr>\n",
              "      <th>752</th>\n",
              "      <td>BARONA Dominic</td>\n",
              "      <td>Ecuador</td>\n",
              "      <td>Surfing</td>\n",
              "    </tr>\n",
              "    <tr>\n",
              "      <th>1134</th>\n",
              "      <td>BONVALOT Teresa</td>\n",
              "      <td>Portugal</td>\n",
              "      <td>Surfing</td>\n",
              "    </tr>\n",
              "    <tr>\n",
              "      <th>1193</th>\n",
              "      <td>BOUKHIAM Ramzi</td>\n",
              "      <td>Morocco</td>\n",
              "      <td>Surfing</td>\n",
              "    </tr>\n",
              "    <tr>\n",
              "      <th>1199</th>\n",
              "      <td>BOUREZ Michel</td>\n",
              "      <td>France</td>\n",
              "      <td>Surfing</td>\n",
              "    </tr>\n",
              "    <tr>\n",
              "      <th>1353</th>\n",
              "      <td>BUITENDAG Bianca</td>\n",
              "      <td>South Africa</td>\n",
              "      <td>Surfing</td>\n",
              "    </tr>\n",
              "    <tr>\n",
              "      <th>2242</th>\n",
              "      <td>DEFAY Johanne</td>\n",
              "      <td>France</td>\n",
              "      <td>Surfing</td>\n",
              "    </tr>\n",
              "    <tr>\n",
              "      <th>2854</th>\n",
              "      <td>FERREIRA Italo</td>\n",
              "      <td>Brazil</td>\n",
              "      <td>Surfing</td>\n",
              "    </tr>\n",
              "    <tr>\n",
              "      <th>2897</th>\n",
              "      <td>FIORAVANTI Leonardo</td>\n",
              "      <td>Italy</td>\n",
              "      <td>Surfing</td>\n",
              "    </tr>\n",
              "    <tr>\n",
              "      <th>2908</th>\n",
              "      <td>FITZGIBBONS Sally</td>\n",
              "      <td>Australia</td>\n",
              "      <td>Surfing</td>\n",
              "    </tr>\n",
              "    <tr>\n",
              "      <th>2931</th>\n",
              "      <td>FLORENCE John John</td>\n",
              "      <td>United States of America</td>\n",
              "      <td>Surfing</td>\n",
              "    </tr>\n",
              "    <tr>\n",
              "      <th>2934</th>\n",
              "      <td>FLORES Jeremy</td>\n",
              "      <td>France</td>\n",
              "      <td>Surfing</td>\n",
              "    </tr>\n",
              "    <tr>\n",
              "      <th>3300</th>\n",
              "      <td>GILMORE Stephanie</td>\n",
              "      <td>Australia</td>\n",
              "      <td>Surfing</td>\n",
              "    </tr>\n",
              "    <tr>\n",
              "      <th>3334</th>\n",
              "      <td>GLATZER Leon</td>\n",
              "      <td>Germany</td>\n",
              "      <td>Surfing</td>\n",
              "    </tr>\n",
              "    <tr>\n",
              "      <th>3872</th>\n",
              "      <td>HENNESSY Brisa</td>\n",
              "      <td>Costa Rica</td>\n",
              "      <td>Surfing</td>\n",
              "    </tr>\n",
              "    <tr>\n",
              "      <th>4020</th>\n",
              "      <td>HOPKINS Yolanda</td>\n",
              "      <td>Portugal</td>\n",
              "      <td>Surfing</td>\n",
              "    </tr>\n",
              "    <tr>\n",
              "      <th>4187</th>\n",
              "      <td>IGARASHI Kanoa</td>\n",
              "      <td>Japan</td>\n",
              "      <td>Surfing</td>\n",
              "    </tr>\n",
              "    <tr>\n",
              "      <th>5453</th>\n",
              "      <td>LELIOR Anat</td>\n",
              "      <td>Israel</td>\n",
              "      <td>Surfing</td>\n",
              "    </tr>\n",
              "    <tr>\n",
              "      <th>5566</th>\n",
              "      <td>LIMA Silvana</td>\n",
              "      <td>Brazil</td>\n",
              "      <td>Surfing</td>\n",
              "    </tr>\n",
              "    <tr>\n",
              "      <th>5849</th>\n",
              "      <td>MAEDA Mahina</td>\n",
              "      <td>Japan</td>\n",
              "      <td>Surfing</td>\n",
              "    </tr>\n",
              "    <tr>\n",
              "      <th>6022</th>\n",
              "      <td>MARKS Caroline</td>\n",
              "      <td>United States of America</td>\n",
              "      <td>Surfing</td>\n",
              "    </tr>\n",
              "    <tr>\n",
              "      <th>6284</th>\n",
              "      <td>MEDINA Gabriel</td>\n",
              "      <td>Brazil</td>\n",
              "      <td>Surfing</td>\n",
              "    </tr>\n",
              "    <tr>\n",
              "      <th>6367</th>\n",
              "      <td>MESINAS Lucca</td>\n",
              "      <td>Peru</td>\n",
              "      <td>Surfing</td>\n",
              "    </tr>\n",
              "    <tr>\n",
              "      <th>6617</th>\n",
              "      <td>MOORE Carissa</td>\n",
              "      <td>United States of America</td>\n",
              "      <td>Surfing</td>\n",
              "    </tr>\n",
              "    <tr>\n",
              "      <th>6719</th>\n",
              "      <td>MULANOVICH Sofia</td>\n",
              "      <td>Peru</td>\n",
              "      <td>Surfing</td>\n",
              "    </tr>\n",
              "    <tr>\n",
              "      <th>6744</th>\n",
              "      <td>MUNOZ Carlos</td>\n",
              "      <td>Costa Rica</td>\n",
              "      <td>Surfing</td>\n",
              "    </tr>\n",
              "    <tr>\n",
              "      <th>8330</th>\n",
              "      <td>ROSAS Daniella</td>\n",
              "      <td>Peru</td>\n",
              "      <td>Surfing</td>\n",
              "    </tr>\n",
              "    <tr>\n",
              "      <th>8816</th>\n",
              "      <td>SELMAN Manuel</td>\n",
              "      <td>Chile</td>\n",
              "      <td>Surfing</td>\n",
              "    </tr>\n",
              "    <tr>\n",
              "      <th>9269</th>\n",
              "      <td>STAIRMAND Billy</td>\n",
              "      <td>New Zealand</td>\n",
              "      <td>Surfing</td>\n",
              "    </tr>\n",
              "    <tr>\n",
              "      <th>9894</th>\n",
              "      <td>TSUZUKI Amuro</td>\n",
              "      <td>Japan</td>\n",
              "      <td>Surfing</td>\n",
              "    </tr>\n",
              "    <tr>\n",
              "      <th>9898</th>\n",
              "      <td>TUDELA Miguel</td>\n",
              "      <td>Peru</td>\n",
              "      <td>Surfing</td>\n",
              "    </tr>\n",
              "    <tr>\n",
              "      <th>9999</th>\n",
              "      <td>USUNA Leandro</td>\n",
              "      <td>Argentina</td>\n",
              "      <td>Surfing</td>\n",
              "    </tr>\n",
              "    <tr>\n",
              "      <th>10345</th>\n",
              "      <td>WAIDA Rio</td>\n",
              "      <td>Indonesia</td>\n",
              "      <td>Surfing</td>\n",
              "    </tr>\n",
              "    <tr>\n",
              "      <th>10519</th>\n",
              "      <td>WESTON-WEBB Tatiana</td>\n",
              "      <td>Brazil</td>\n",
              "      <td>Surfing</td>\n",
              "    </tr>\n",
              "    <tr>\n",
              "      <th>10580</th>\n",
              "      <td>WILLIAMS Ella</td>\n",
              "      <td>New Zealand</td>\n",
              "      <td>Surfing</td>\n",
              "    </tr>\n",
              "    <tr>\n",
              "      <th>10617</th>\n",
              "      <td>WILSON Julian</td>\n",
              "      <td>Australia</td>\n",
              "      <td>Surfing</td>\n",
              "    </tr>\n",
              "    <tr>\n",
              "      <th>10690</th>\n",
              "      <td>WRIGHT Owen</td>\n",
              "      <td>Australia</td>\n",
              "      <td>Surfing</td>\n",
              "    </tr>\n",
              "  </tbody>\n",
              "</table>\n",
              "</div>"
            ],
            "text/plain": [
              "                      Name                       NOC Discipline\n",
              "107            ADO Pauline                    France    Surfing\n",
              "388          ANDINO Kolohe  United States of America    Surfing\n",
              "752         BARONA Dominic                   Ecuador    Surfing\n",
              "1134       BONVALOT Teresa                  Portugal    Surfing\n",
              "1193        BOUKHIAM Ramzi                   Morocco    Surfing\n",
              "1199         BOUREZ Michel                    France    Surfing\n",
              "1353      BUITENDAG Bianca              South Africa    Surfing\n",
              "2242         DEFAY Johanne                    France    Surfing\n",
              "2854        FERREIRA Italo                    Brazil    Surfing\n",
              "2897   FIORAVANTI Leonardo                     Italy    Surfing\n",
              "2908     FITZGIBBONS Sally                 Australia    Surfing\n",
              "2931    FLORENCE John John  United States of America    Surfing\n",
              "2934         FLORES Jeremy                    France    Surfing\n",
              "3300     GILMORE Stephanie                 Australia    Surfing\n",
              "3334          GLATZER Leon                   Germany    Surfing\n",
              "3872        HENNESSY Brisa                Costa Rica    Surfing\n",
              "4020       HOPKINS Yolanda                  Portugal    Surfing\n",
              "4187        IGARASHI Kanoa                     Japan    Surfing\n",
              "5453           LELIOR Anat                    Israel    Surfing\n",
              "5566          LIMA Silvana                    Brazil    Surfing\n",
              "5849          MAEDA Mahina                     Japan    Surfing\n",
              "6022        MARKS Caroline  United States of America    Surfing\n",
              "6284        MEDINA Gabriel                    Brazil    Surfing\n",
              "6367         MESINAS Lucca                      Peru    Surfing\n",
              "6617         MOORE Carissa  United States of America    Surfing\n",
              "6719      MULANOVICH Sofia                      Peru    Surfing\n",
              "6744          MUNOZ Carlos                Costa Rica    Surfing\n",
              "8330        ROSAS Daniella                      Peru    Surfing\n",
              "8816         SELMAN Manuel                     Chile    Surfing\n",
              "9269       STAIRMAND Billy               New Zealand    Surfing\n",
              "9894         TSUZUKI Amuro                     Japan    Surfing\n",
              "9898         TUDELA Miguel                      Peru    Surfing\n",
              "9999         USUNA Leandro                 Argentina    Surfing\n",
              "10345            WAIDA Rio                 Indonesia    Surfing\n",
              "10519  WESTON-WEBB Tatiana                    Brazil    Surfing\n",
              "10580        WILLIAMS Ella               New Zealand    Surfing\n",
              "10617        WILSON Julian                 Australia    Surfing\n",
              "10690          WRIGHT Owen                 Australia    Surfing"
            ]
          },
          "metadata": {},
          "execution_count": 74
        }
      ]
    },
    {
      "cell_type": "code",
      "metadata": {
        "colab": {
          "base_uri": "https://localhost:8080/",
          "height": 175
        },
        "id": "oB2wVkhMSbzZ",
        "outputId": "0f152c34-b270-454b-c7b8-10b9f8cdea5e"
      },
      "source": [
        "surf[surf['NOC']=='Brazil']"
      ],
      "execution_count": 75,
      "outputs": [
        {
          "output_type": "execute_result",
          "data": {
            "text/html": [
              "<div>\n",
              "<style scoped>\n",
              "    .dataframe tbody tr th:only-of-type {\n",
              "        vertical-align: middle;\n",
              "    }\n",
              "\n",
              "    .dataframe tbody tr th {\n",
              "        vertical-align: top;\n",
              "    }\n",
              "\n",
              "    .dataframe thead th {\n",
              "        text-align: right;\n",
              "    }\n",
              "</style>\n",
              "<table border=\"1\" class=\"dataframe\">\n",
              "  <thead>\n",
              "    <tr style=\"text-align: right;\">\n",
              "      <th></th>\n",
              "      <th>Name</th>\n",
              "      <th>NOC</th>\n",
              "      <th>Discipline</th>\n",
              "    </tr>\n",
              "  </thead>\n",
              "  <tbody>\n",
              "    <tr>\n",
              "      <th>2854</th>\n",
              "      <td>FERREIRA Italo</td>\n",
              "      <td>Brazil</td>\n",
              "      <td>Surfing</td>\n",
              "    </tr>\n",
              "    <tr>\n",
              "      <th>5566</th>\n",
              "      <td>LIMA Silvana</td>\n",
              "      <td>Brazil</td>\n",
              "      <td>Surfing</td>\n",
              "    </tr>\n",
              "    <tr>\n",
              "      <th>6284</th>\n",
              "      <td>MEDINA Gabriel</td>\n",
              "      <td>Brazil</td>\n",
              "      <td>Surfing</td>\n",
              "    </tr>\n",
              "    <tr>\n",
              "      <th>10519</th>\n",
              "      <td>WESTON-WEBB Tatiana</td>\n",
              "      <td>Brazil</td>\n",
              "      <td>Surfing</td>\n",
              "    </tr>\n",
              "  </tbody>\n",
              "</table>\n",
              "</div>"
            ],
            "text/plain": [
              "                      Name     NOC Discipline\n",
              "2854        FERREIRA Italo  Brazil    Surfing\n",
              "5566          LIMA Silvana  Brazil    Surfing\n",
              "6284        MEDINA Gabriel  Brazil    Surfing\n",
              "10519  WESTON-WEBB Tatiana  Brazil    Surfing"
            ]
          },
          "metadata": {},
          "execution_count": 75
        }
      ]
    },
    {
      "cell_type": "code",
      "metadata": {
        "colab": {
          "base_uri": "https://localhost:8080/",
          "height": 112
        },
        "id": "y2tL5lp9Usd6",
        "outputId": "3ee3d70b-cc91-4466-8920-60dd6ee2319f"
      },
      "source": [
        "surf[surf['NOC']=='New Zealand']"
      ],
      "execution_count": 80,
      "outputs": [
        {
          "output_type": "execute_result",
          "data": {
            "text/html": [
              "<div>\n",
              "<style scoped>\n",
              "    .dataframe tbody tr th:only-of-type {\n",
              "        vertical-align: middle;\n",
              "    }\n",
              "\n",
              "    .dataframe tbody tr th {\n",
              "        vertical-align: top;\n",
              "    }\n",
              "\n",
              "    .dataframe thead th {\n",
              "        text-align: right;\n",
              "    }\n",
              "</style>\n",
              "<table border=\"1\" class=\"dataframe\">\n",
              "  <thead>\n",
              "    <tr style=\"text-align: right;\">\n",
              "      <th></th>\n",
              "      <th>Name</th>\n",
              "      <th>NOC</th>\n",
              "      <th>Discipline</th>\n",
              "    </tr>\n",
              "  </thead>\n",
              "  <tbody>\n",
              "    <tr>\n",
              "      <th>9269</th>\n",
              "      <td>STAIRMAND Billy</td>\n",
              "      <td>New Zealand</td>\n",
              "      <td>Surfing</td>\n",
              "    </tr>\n",
              "    <tr>\n",
              "      <th>10580</th>\n",
              "      <td>WILLIAMS Ella</td>\n",
              "      <td>New Zealand</td>\n",
              "      <td>Surfing</td>\n",
              "    </tr>\n",
              "  </tbody>\n",
              "</table>\n",
              "</div>"
            ],
            "text/plain": [
              "                  Name          NOC Discipline\n",
              "9269   STAIRMAND Billy  New Zealand    Surfing\n",
              "10580    WILLIAMS Ella  New Zealand    Surfing"
            ]
          },
          "metadata": {},
          "execution_count": 80
        }
      ]
    },
    {
      "cell_type": "code",
      "metadata": {
        "colab": {
          "base_uri": "https://localhost:8080/",
          "height": 143
        },
        "id": "6JO89wVvVPTz",
        "outputId": "7c3a63c7-3ea2-4c1b-a059-615f5be2dd07"
      },
      "source": [
        "surf[surf['NOC']=='Japan']"
      ],
      "execution_count": 81,
      "outputs": [
        {
          "output_type": "execute_result",
          "data": {
            "text/html": [
              "<div>\n",
              "<style scoped>\n",
              "    .dataframe tbody tr th:only-of-type {\n",
              "        vertical-align: middle;\n",
              "    }\n",
              "\n",
              "    .dataframe tbody tr th {\n",
              "        vertical-align: top;\n",
              "    }\n",
              "\n",
              "    .dataframe thead th {\n",
              "        text-align: right;\n",
              "    }\n",
              "</style>\n",
              "<table border=\"1\" class=\"dataframe\">\n",
              "  <thead>\n",
              "    <tr style=\"text-align: right;\">\n",
              "      <th></th>\n",
              "      <th>Name</th>\n",
              "      <th>NOC</th>\n",
              "      <th>Discipline</th>\n",
              "    </tr>\n",
              "  </thead>\n",
              "  <tbody>\n",
              "    <tr>\n",
              "      <th>4187</th>\n",
              "      <td>IGARASHI Kanoa</td>\n",
              "      <td>Japan</td>\n",
              "      <td>Surfing</td>\n",
              "    </tr>\n",
              "    <tr>\n",
              "      <th>5849</th>\n",
              "      <td>MAEDA Mahina</td>\n",
              "      <td>Japan</td>\n",
              "      <td>Surfing</td>\n",
              "    </tr>\n",
              "    <tr>\n",
              "      <th>9894</th>\n",
              "      <td>TSUZUKI Amuro</td>\n",
              "      <td>Japan</td>\n",
              "      <td>Surfing</td>\n",
              "    </tr>\n",
              "  </tbody>\n",
              "</table>\n",
              "</div>"
            ],
            "text/plain": [
              "                Name    NOC Discipline\n",
              "4187  IGARASHI Kanoa  Japan    Surfing\n",
              "5849    MAEDA Mahina  Japan    Surfing\n",
              "9894   TSUZUKI Amuro  Japan    Surfing"
            ]
          },
          "metadata": {},
          "execution_count": 81
        }
      ]
    },
    {
      "cell_type": "code",
      "metadata": {
        "colab": {
          "base_uri": "https://localhost:8080/",
          "height": 81
        },
        "id": "uNazS5GxZuCh",
        "outputId": "bf2bde67-2973-4e43-ad4b-7ac357cbcab0"
      },
      "source": [
        "surf[surf['NOC']=='Israel']"
      ],
      "execution_count": 103,
      "outputs": [
        {
          "output_type": "execute_result",
          "data": {
            "text/html": [
              "<div>\n",
              "<style scoped>\n",
              "    .dataframe tbody tr th:only-of-type {\n",
              "        vertical-align: middle;\n",
              "    }\n",
              "\n",
              "    .dataframe tbody tr th {\n",
              "        vertical-align: top;\n",
              "    }\n",
              "\n",
              "    .dataframe thead th {\n",
              "        text-align: right;\n",
              "    }\n",
              "</style>\n",
              "<table border=\"1\" class=\"dataframe\">\n",
              "  <thead>\n",
              "    <tr style=\"text-align: right;\">\n",
              "      <th></th>\n",
              "      <th>Name</th>\n",
              "      <th>NOC</th>\n",
              "      <th>Discipline</th>\n",
              "    </tr>\n",
              "  </thead>\n",
              "  <tbody>\n",
              "    <tr>\n",
              "      <th>5453</th>\n",
              "      <td>LELIOR Anat</td>\n",
              "      <td>Israel</td>\n",
              "      <td>Surfing</td>\n",
              "    </tr>\n",
              "  </tbody>\n",
              "</table>\n",
              "</div>"
            ],
            "text/plain": [
              "             Name     NOC Discipline\n",
              "5453  LELIOR Anat  Israel    Surfing"
            ]
          },
          "metadata": {},
          "execution_count": 103
        }
      ]
    },
    {
      "cell_type": "code",
      "metadata": {
        "id": "687kxpQDSvqZ"
      },
      "source": [
        "Comparação da quantidade de surfistas da Nova Zelândia, Japão, Israel e do Brasil que participarão das olimpiadas."
      ],
      "execution_count": null,
      "outputs": []
    },
    {
      "cell_type": "markdown",
      "metadata": {
        "id": "xbpLvAhTCxWU"
      },
      "source": [
        "# Questão 5 - valor (1,5)\n",
        "\n",
        "\n",
        "\n"
      ]
    },
    {
      "cell_type": "code",
      "metadata": {
        "id": "0r7i8IsFxoQp"
      },
      "source": [
        ""
      ],
      "execution_count": null,
      "outputs": []
    },
    {
      "cell_type": "markdown",
      "metadata": {
        "id": "cp4fWsL7CxWU"
      },
      "source": [
        "Usando o método de avaliação de acurácia (Train test split), Escolha outros 2 \n",
        "\n",
        "1.   Item da lista\n",
        "2.   Item da lista\n",
        "\n",
        "algoritmos de classificação e calcule a acurácia dos mesmos."
      ]
    },
    {
      "cell_type": "code",
      "metadata": {
        "id": "t966eOSbON4V"
      },
      "source": [
        ""
      ],
      "execution_count": null,
      "outputs": []
    },
    {
      "cell_type": "markdown",
      "metadata": {
        "id": "mNmy44xfCxWY"
      },
      "source": [
        "5.2 - Acurácia usando o algoritmo 1 ?\n"
      ]
    },
    {
      "cell_type": "code",
      "metadata": {
        "id": "caGkCtYGCxWY"
      },
      "source": [
        ""
      ],
      "execution_count": null,
      "outputs": []
    },
    {
      "cell_type": "markdown",
      "metadata": {
        "id": "3xUZm_JICxWa"
      },
      "source": [
        "5.3 - Acurácia usando o algoritmo 2 ?\n",
        "\n",
        "\n",
        "\n"
      ]
    },
    {
      "cell_type": "code",
      "metadata": {
        "id": "VvAgNcVsCxWb"
      },
      "source": [
        ""
      ],
      "execution_count": null,
      "outputs": []
    },
    {
      "cell_type": "markdown",
      "metadata": {
        "id": "8FkyIUHbCxWd"
      },
      "source": [
        "5.4 - De acordo com seus resultados anteriores, qual dos 2 algoritmos é mais eficiente?\n"
      ]
    },
    {
      "cell_type": "code",
      "metadata": {
        "id": "K0AE8XQ1CxWd"
      },
      "source": [
        ""
      ],
      "execution_count": null,
      "outputs": []
    },
    {
      "cell_type": "markdown",
      "metadata": {
        "id": "QIAfJToiy77F"
      },
      "source": [
        "# Questão 6 - valor (1,5)\n",
        "\n"
      ]
    },
    {
      "cell_type": "markdown",
      "metadata": {
        "id": "Is2wXGy3ySgF"
      },
      "source": [
        "6 - Faça um visualização auto-explicativa da sua base de dados utilizando o matplotlib. Coloque o código e a visualização abaixo.\n"
      ]
    },
    {
      "cell_type": "code",
      "metadata": {
        "id": "DdlmwhZlyi_7"
      },
      "source": [
        "import matplotlib.pyplot as plt\n",
        "import numpy as np\n"
      ],
      "execution_count": 77,
      "outputs": []
    },
    {
      "cell_type": "markdown",
      "metadata": {
        "id": "V_kIGDK5XiFR"
      },
      "source": [
        "1- Brasil   2- Japão    3- Nova Zelândia   4- Israel"
      ]
    },
    {
      "cell_type": "code",
      "metadata": {
        "colab": {
          "base_uri": "https://localhost:8080/",
          "height": 279
        },
        "id": "gKxg2y56UM3i",
        "outputId": "60b9b898-8631-4082-d7bc-f2afbe903139"
      },
      "source": [
        "plt.plot([4,3,2,1],[1,2,3,4])\n",
        "plt.ylabel ('Países')\n",
        "plt.xlabel ('Qtd Atletas')\n",
        "\n",
        "plt.show()"
      ],
      "execution_count": 109,
      "outputs": [
        {
          "output_type": "display_data",
          "data": {
            "image/png": "[encoded data removed]",
            "text/plain": [
              "<Figure size 432x288 with 1 Axes>"
            ]
          },
          "metadata": {
            "needs_background": "light"
          }
        }
      ]
    },
    {
      "cell_type": "code",
      "metadata": {
        "id": "DHWyAPX_XVQp"
      },
      "source": [
        ""
      ],
      "execution_count": null,
      "outputs": []
    },
    {
      "cell_type": "code",
      "metadata": {
        "id": "zRDUIRloCxWf"
      },
      "source": [
        "*** Envie o link do seu Github com essa resposta no Classroom\n"
      ],
      "execution_count": null,
      "outputs": []
    }
  ]
}